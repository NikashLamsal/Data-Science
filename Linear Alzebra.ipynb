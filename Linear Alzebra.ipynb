{
 "cells": [
  {
   "cell_type": "markdown",
   "metadata": {},
   "source": [
    "# Linear Alzebra\n",
    "### 1. Matrix Operation\n",
    "\n",
    "      A=[[2   -1], [​0    3​]]\n",
    "      B=[[1   ​ 2], [-3   4​]]"
   ]
  },
  {
   "cell_type": "markdown",
   "metadata": {},
   "source": [
    "* A + B\n",
    "* AB\n",
    "* 3A−2B"
   ]
  },
  {
   "cell_type": "code",
   "execution_count": 19,
   "metadata": {},
   "outputs": [
    {
     "name": "stdout",
     "output_type": "stream",
     "text": [
      "multiplocation :\n",
      " [[ 5  0]\n",
      " [-9 12]]\n",
      "A + B: \n",
      " [[ 3  1]\n",
      " [-3  7]]\n",
      "AB: \n",
      " [[ 5  0]\n",
      " [-9 12]]\n",
      "3A - 2B: \n",
      " [[ 4 -7]\n",
      " [ 6  1]]\n"
     ]
    }
   ],
   "source": [
    "import numpy as np\n",
    "\n",
    "A = np.array([[2,-1],[0,3]])\n",
    "B = np.array([[1,2],[-3,4]])\n",
    "\n",
    "sum = A + B\n",
    "product = np.dot(A,B)\n",
    "p = A@B\n",
    "subtraction = 3 * A - 2 * B\n",
    "print(\"multiplication :\\n\",p)\n",
    "print(\"A + B: \\n\",sum)\n",
    "print(\"AB: \\n\",product)\n",
    "print(\"3A - 2B: \\n\",subtraction)\n"
   ]
  },
  {
   "cell_type": "markdown",
   "metadata": {},
   "source": [
    "### 2. Determinants and Inverses \n",
    " * Find the determinant of A.\n"
   ]
  },
  {
   "cell_type": "code",
   "execution_count": 4,
   "metadata": {},
   "outputs": [
    {
     "name": "stdout",
     "output_type": "stream",
     "text": [
      "Determinant of A :  6.0\n"
     ]
    }
   ],
   "source": [
    "A = np.array([[2,-1],[0,3]])\n",
    "det_A = np.linalg.det(A)\n",
    "print(\"Determinant of A : \",det_A)"
   ]
  },
  {
   "cell_type": "markdown",
   "metadata": {},
   "source": [
    "* Determine whether A is invertible. If yes, calculate A^-1."
   ]
  },
  {
   "cell_type": "code",
   "execution_count": 10,
   "metadata": {},
   "outputs": [
    {
     "name": "stdout",
     "output_type": "stream",
     "text": [
      "Matrix A is invertible\n",
      "Invertible of A is :\n",
      " [[0.5        0.16666667]\n",
      " [0.         0.33333333]]\n"
     ]
    }
   ],
   "source": [
    "a = det_A\n",
    "if a != 0:\n",
    "    A_inv = True\n",
    "    print(\"Matrix A is invertible\")\n",
    "else:\n",
    "    A_inv = False\n",
    "    print(\"Matrix A is not invertible\")\n",
    "if A_inv:\n",
    "    inv_A= np.linalg.inv(A)\n",
    "    print(\"Invertible of A is :\\n\",inv_A)\n"
   ]
  },
  {
   "cell_type": "markdown",
   "metadata": {},
   "source": [
    "### 3. Eigenvalues and Eigenvectors \n",
    "* Compute the eigenvalues and eigenvectors of the matrix:\n"
   ]
  },
  {
   "cell_type": "markdown",
   "metadata": {},
   "source": [
    "      C=[[4  1], [​−2  1]​]"
   ]
  },
  {
   "cell_type": "code",
   "execution_count": 12,
   "metadata": {},
   "outputs": [
    {
     "name": "stdout",
     "output_type": "stream",
     "text": [
      "Eigenvectors of C:\n",
      " [3. 2.]\n",
      "Eigenvectors of C:\n",
      " [[ 0.70710678 -0.4472136 ]\n",
      " [-0.70710678  0.89442719]]\n"
     ]
    }
   ],
   "source": [
    "C = np.array([[4, 1], [-2, 1]])\n",
    "eigenvalues, eigenvectors = np.linalg.eig(C)\n",
    "print(\"Eigenvectors of C:\\n\", eigenvalues)\n",
    "print(\"Eigenvectors of C:\\n\", eigenvectors)"
   ]
  },
  {
   "cell_type": "markdown",
   "metadata": {},
   "source": [
    "### 4. You are given a dataset of cars with the following features:\n",
    "* Number of cylinders (x1​)\n",
    "* Engine size in liters (x2​)\n",
    "* Horsepower (x3)"
   ]
  },
  {
   "cell_type": "markdown",
   "metadata": {},
   "source": [
    "### Car 1:\n",
    "* x1: 4\n",
    "* x2: 1.5\n",
    "* x3: 100\n",
    "* price: 20"
   ]
  },
  {
   "cell_type": "markdown",
   "metadata": {},
   "source": [
    "### Car 2:\n",
    "* x1: 6\n",
    "* x2: 2.0\n",
    "* x3: 150\n",
    "* price: 30"
   ]
  },
  {
   "cell_type": "markdown",
   "metadata": {},
   "source": [
    "### Car 3:\n",
    "* x1: 8\n",
    "* x2: 3.0\n",
    "* x3: 200\n",
    "* price: ?"
   ]
  },
  {
   "cell_type": "code",
   "execution_count": 17,
   "metadata": {},
   "outputs": [
    {
     "name": "stdout",
     "output_type": "stream",
     "text": [
      "Estimated price of car 3: 39.99999999999998\n"
     ]
    }
   ],
   "source": [
    "X = np.array([[4, 1.5, 100], [6, 2.0, 150]])\n",
    "y = np.array([20, 30])\n",
    "beta = np.linalg.pinv(X.T @ X) @ X.T @ y\n",
    "car_3 = np.array([8, 3.0, 200])\n",
    "price_car_3 = car_3 @ beta\n",
    "print(\"Estimated price of car 3:\", price_car_3)\n"
   ]
  }
 ],
 "metadata": {
  "kernelspec": {
   "display_name": "Python 3",
   "language": "python",
   "name": "python3"
  },
  "language_info": {
   "codemirror_mode": {
    "name": "ipython",
    "version": 3
   },
   "file_extension": ".py",
   "mimetype": "text/x-python",
   "name": "python",
   "nbconvert_exporter": "python",
   "pygments_lexer": "ipython3",
   "version": "3.13.1"
  }
 },
 "nbformat": 4,
 "nbformat_minor": 2
}
